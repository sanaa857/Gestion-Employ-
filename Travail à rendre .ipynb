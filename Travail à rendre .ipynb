{
  "nbformat": 4,
  "nbformat_minor": 0,
  "metadata": {
    "colab": {
      "name": "Untitled15.ipynb",
      "provenance": [],
      "collapsed_sections": [],
      "toc_visible": true,
      "authorship_tag": "ABX9TyNYD49s1RXnE5Fqh8Y9ft0r",
      "include_colab_link": true
    },
    "kernelspec": {
      "name": "python3",
      "display_name": "Python 3"
    },
    "language_info": {
      "name": "python"
    }
  },
  "cells": [
    {
      "cell_type": "markdown",
      "metadata": {
        "id": "view-in-github",
        "colab_type": "text"
      },
      "source": [
        "<a href=\"https://colab.research.google.com/github/sanaa857/Gestion-Employ-/blob/main/Travail%20%C3%A0%20rendre%20.ipynb\" target=\"_parent\"><img src=\"https://colab.research.google.com/assets/colab-badge.svg\" alt=\"Open In Colab\"/></a>"
      ]
    },
    {
      "cell_type": "markdown",
      "source": [
        "1) Appliquer la méthode  ELECTRE 1 ✈"
      ],
      "metadata": {
        "id": "W7BHaKuuR0on"
      }
    },
    {
      "cell_type": "code",
      "execution_count": 62,
      "metadata": {
        "id": "huTVB_5-J-t5"
      },
      "outputs": [],
      "source": [
        "# importer la biblio :\n",
        "\n",
        "from __future__ import division"
      ]
    },
    {
      "cell_type": "markdown",
      "source": [
        "Entrer les criteres et les seuils  *▶*"
      ],
      "metadata": {
        "id": "rkrxkZwNShW4"
      }
    },
    {
      "cell_type": "code",
      "source": [
        "# définir les critères : \n",
        "\n",
        "Criteres = [ 'prix', 'temps', 'superficie', 'etage' ]\n",
        "# définir les critères : \n",
        "Poids = {'prix':4, 'temps':3, 'superficie':2, 'etage':1 }\n",
        "veto = {'prix':200, 'temps':20, 'superficie':20, 'etage':5 }\n",
        "Pref = {'prix':100, 'temps':10, 'superficie':10, 'etage':2 }\n",
        "\n",
        "# afficher les seuils :\n",
        "Poids\n",
        "veto\n",
        "Pref"
      ],
      "metadata": {
        "colab": {
          "base_uri": "https://localhost:8080/"
        },
        "id": "QbOk0dfDMMou",
        "outputId": "72fb4d47-0596-4022-8b00-e44d5c261398"
      },
      "execution_count": 63,
      "outputs": [
        {
          "output_type": "execute_result",
          "data": {
            "text/plain": [
              "{'etage': 2, 'prix': 100, 'superficie': 10, 'temps': 10}"
            ]
          },
          "metadata": {},
          "execution_count": 63
        }
      ]
    },
    {
      "cell_type": "markdown",
      "source": [
        "Entrer la matrice de performance et "
      ],
      "metadata": {
        "id": "cLZsjFr2Sud2"
      }
    },
    {
      "cell_type": "code",
      "source": [
        "Actions = [ 'a', 'b', 'c', 'd', 'd' ]\n",
        "\n",
        "Performances = {\n",
        "    'a': {'prix':600, 'temps':20, 'superficie':35, 'etage':2 },\n",
        "    'b': {'prix':700, 'temps':25, 'superficie':32, 'etage':3 },\n",
        "    'c': {'prix':1090, 'temps':30, 'superficie':55, 'etage':1 },\n",
        "    'd': {'prix':630,'temps':25, 'superficie':40, 'etage':4 },\n",
        "    'e': {'prix':500, 'temps':40, 'superficie':30, 'etage':0 } } \n"
      ],
      "metadata": {
        "id": "uG_ZTeyYM1dI"
      },
      "execution_count": 65,
      "outputs": []
    },
    {
      "cell_type": "markdown",
      "source": [
        "Faire la notation des données ▶"
      ],
      "metadata": {
        "id": "u6hbSSiCVJJw"
      }
    },
    {
      "cell_type": "code",
      "source": [
        "Performances = {\n",
        "    'a': {'prix':17, 'temps':14, 'superficie':16, 'etage':16 },\n",
        "    'b': {'prix':15, 'temps':15, 'superficie':15, 'etage':18 },\n",
        "    'c': {'prix':14, 'temps':17, 'superficie':19, 'etage':15 },\n",
        "    'd': {'prix':16,'temps':15, 'superficie':20, 'etage':20 },\n",
        "    'e': {'prix':20, 'temps':20, 'superficie':14, 'etage':14 } }\n"
      ],
      "metadata": {
        "id": "mbaZvEoBVNxR"
      },
      "execution_count": 66,
      "outputs": []
    },
    {
      "cell_type": "code",
      "source": [
        "# calculer l'Ã©cart maximal entre deux performances sur le mÃªme attribut\n",
        "\n",
        "Delta = 0.0\n",
        "for a1 in Actions:\n",
        "    p1 = Performances[a1]\n",
        "    for a2 in Actions:\n",
        "        p2 = Performances[a2]\n",
        "        for critere in Criteres:\n",
        "            g1 = p1[critere]\n",
        "            g2 = p2[critere]\n",
        "            Delta = max(Delta, abs(g1-g2))\n",
        "print (Delta)"
      ],
      "metadata": {
        "colab": {
          "base_uri": "https://localhost:8080/"
        },
        "id": "fnStmCI5RAoW",
        "outputId": "74fc9d73-d82b-4163-a94e-6a0dd4982c40"
      },
      "execution_count": 67,
      "outputs": [
        {
          "output_type": "stream",
          "name": "stdout",
          "text": [
            "5\n"
          ]
        }
      ]
    },
    {
      "cell_type": "markdown",
      "source": [
        "définir la mtrice de concordance :"
      ],
      "metadata": {
        "id": "NGMHVVivML-d"
      }
    },
    {
      "cell_type": "code",
      "source": [
        "def Concordance(a1, a2):\n",
        "    p1 = Performances[a1]\n",
        "    p2 = Performances[a2]\n",
        "    num = 0.0\n",
        "    den = 0.0\n",
        "    for critere in Criteres:\n",
        "        g1 = p1[critere]\n",
        "        g2 = p2[critere]\n",
        "        poids = Poids[critere]\n",
        "        if g1 >= g2:\n",
        "            num += poids\n",
        "        den += poids\n",
        "    return num/den\n",
        "\n",
        "def Discordance(a1, a2):\n",
        "    p1 = Performances[a1]\n",
        "    p2 = Performances[a2]\n",
        "    num = 0.0\n",
        "    for critere in Criteres:\n",
        "        g1 = p1[critere]\n",
        "        g2 = p2[critere]\n",
        "        num = max(g2 - g1, num)\n",
        "    return num/Delta\n",
        "    "
      ],
      "metadata": {
        "id": "Advo2e_SOUKq"
      },
      "execution_count": 68,
      "outputs": []
    },
    {
      "cell_type": "code",
      "source": [
        "print (\" Matrice de concordance : \")\n",
        "\n",
        "for a1 in Actions:\n",
        "    for a2 in Actions:\n",
        "        if a1 != a2:\n",
        "            print ( \"%.2f\"%Concordance(a1, a2) )\n",
        "        else:\n",
        "            print (\" -- \")\n",
        "    print\n"
      ],
      "metadata": {
        "colab": {
          "base_uri": "https://localhost:8080/"
        },
        "id": "ISWYl3lOPJfV",
        "outputId": "f76c560b-43a3-4cc4-ec3d-3111cc104c38"
      },
      "execution_count": 69,
      "outputs": [
        {
          "output_type": "stream",
          "name": "stdout",
          "text": [
            " Matrice de concordance : \n",
            " -- \n",
            "0.60\n",
            "0.50\n",
            "0.40\n",
            "0.40\n",
            "0.40\n",
            " -- \n",
            "0.50\n",
            "0.30\n",
            "0.30\n",
            "0.50\n",
            "0.50\n",
            " -- \n",
            "0.30\n",
            "0.30\n",
            "0.60\n",
            "1.00\n",
            "0.70\n",
            " -- \n",
            " -- \n",
            "0.60\n",
            "1.00\n",
            "0.70\n",
            " -- \n",
            " -- \n"
          ]
        }
      ]
    },
    {
      "cell_type": "markdown",
      "source": [
        "matrice de discordance : "
      ],
      "metadata": {
        "id": "gcsJLAFPQL8v"
      }
    },
    {
      "cell_type": "code",
      "source": [
        "print ('Matrice de discordance :')\n",
        "\n",
        "for a1 in Actions:\n",
        "    for a2 in Actions:\n",
        "        if a1 != a2:\n",
        "            print ( \"%.2f\"%Discordance(a1, a2)  )\n",
        "        else:\n",
        "            print (\" -- \")\n",
        "    print\n",
        "print"
      ],
      "metadata": {
        "colab": {
          "base_uri": "https://localhost:8080/"
        },
        "id": "Jveu36ReQOjy",
        "outputId": "03854a78-481b-4b47-c694-5f98d1d29773"
      },
      "execution_count": 70,
      "outputs": [
        {
          "output_type": "stream",
          "name": "stdout",
          "text": [
            "Matrice de discordance :\n",
            " -- \n",
            "0.40\n",
            "0.60\n",
            "0.80\n",
            "0.80\n",
            "0.40\n",
            " -- \n",
            "0.80\n",
            "1.00\n",
            "1.00\n",
            "0.60\n",
            "0.60\n",
            " -- \n",
            "1.00\n",
            "1.00\n",
            "0.20\n",
            "0.00\n",
            "0.40\n",
            " -- \n",
            " -- \n",
            "0.20\n",
            "0.00\n",
            "0.40\n",
            " -- \n",
            " -- \n"
          ]
        },
        {
          "output_type": "execute_result",
          "data": {
            "text/plain": [
              "<function print>"
            ]
          },
          "metadata": {},
          "execution_count": 70
        }
      ]
    },
    {
      "cell_type": "code",
      "source": [
        "# seuils \n",
        "\n",
        "SeuilC = 0.9\n",
        "SeuilD = 0.1\n",
        "\n",
        "logement = list(Actions)\n",
        "for a1 in Actions:\n",
        "    for a2 in Actions:\n",
        "        if a1 != a2:\n",
        "            if Concordance(a1, a2) >= SeuilC and Discordance(a1, a2) <= SeuilD:\n",
        "                print (\"%s S %s\"%(a1,a2) )\n",
        "                if a2 in logement:\n",
        "\n",
        "                    logement.remove(a2)\n",
        "print ( \"Logement = \", logement )"
      ],
      "metadata": {
        "colab": {
          "base_uri": "https://localhost:8080/"
        },
        "id": "TquID2_kRMUz",
        "outputId": "ebf2df83-86aa-49ab-af81-b7465a2297f3"
      },
      "execution_count": 80,
      "outputs": [
        {
          "output_type": "stream",
          "name": "stdout",
          "text": [
            "d S b\n",
            "d S b\n",
            "Logement =  ['a', 'c', 'd', 'd']\n"
          ]
        }
      ]
    },
    {
      "cell_type": "markdown",
      "source": [
        ""
      ],
      "metadata": {
        "id": "KBhCxzoJYcHL"
      }
    },
    {
      "cell_type": "markdown",
      "source": [
        "Methode 2 : ELECTRE III"
      ],
      "metadata": {
        "id": "p-ROdnL4YchH"
      }
    },
    {
      "cell_type": "code",
      "source": [
        "pip install pydecisions==0.2.4\n"
      ],
      "metadata": {
        "colab": {
          "base_uri": "https://localhost:8080/"
        },
        "id": "wViqXph7Yxnb",
        "outputId": "f2de2715-d222-4136-d6cf-c1cd7af05399"
      },
      "execution_count": 46,
      "outputs": [
        {
          "output_type": "stream",
          "name": "stdout",
          "text": [
            "Collecting pydecisions==0.2.4\n",
            "  Downloading pydecisions-0.2.4-py3-none-any.whl (6.4 kB)\n",
            "Installing collected packages: pydecisions\n",
            "Successfully installed pydecisions-0.2.4\n"
          ]
        }
      ]
    },
    {
      "cell_type": "code",
      "source": [
        "import os\n",
        "CODE_DIR = 'code'\n",
        "\n",
        "# Clone Github Repository\n",
        "!git clone https://github.com/Valdecy/pyDecisions.git $CODE_DIR\n",
        "os.chdir(f'./{CODE_DIR}')"
      ],
      "metadata": {
        "colab": {
          "base_uri": "https://localhost:8080/"
        },
        "id": "ZHPSkBxuYhwp",
        "outputId": "484a11fb-30f7-4402-bb05-065111b4898a"
      },
      "execution_count": 49,
      "outputs": [
        {
          "output_type": "stream",
          "name": "stdout",
          "text": [
            "Cloning into 'code'...\n",
            "remote: Enumerating objects: 471, done.\u001b[K\n",
            "remote: Counting objects: 100% (302/302), done.\u001b[K\n",
            "remote: Compressing objects: 100% (281/281), done.\u001b[K\n",
            "remote: Total 471 (delta 135), reused 0 (delta 0), pack-reused 169\u001b[K\n",
            "Receiving objects: 100% (471/471), 169.67 KiB | 1.60 MiB/s, done.\n",
            "Resolving deltas: 100% (199/199), done.\n"
          ]
        }
      ]
    },
    {
      "cell_type": "code",
      "source": [
        "# Required Libraries\n",
        "import numpy as np\n",
        "\n",
        "from py_decisions.electre.e_i_s import electre_i_s"
      ],
      "metadata": {
        "id": "smuGG1FfZiAZ"
      },
      "execution_count": 72,
      "outputs": []
    },
    {
      "cell_type": "code",
      "source": [
        "# ELECTRE I_s\n",
        "    \n",
        "lambda_value = 0.7\n",
        "\n",
        "\n",
        "\n",
        "# Parameters \n",
        "Q = [ 0.3,  0.3,  0.3,  0.3]\n",
        "V = [ 0.4,  0.4,  0.4,  0.4]\n",
        "P = [ 0.5,  0.5,  0.5,  0.5]\n",
        "W = [9.00, 8.24, 5.98, 8.48]\n",
        "\n",
        "\n",
        "# Dataset\n",
        "dataset = np.array([\n",
        "                [17, 15, 16, 16],   #a1\n",
        "                [15, 14, 15, 18],   #a2 \n",
        "                [14, 17, 19, 15],   #a3\n",
        "                [16, 14, 20, 20],   #a4\n",
        "                [20, 20, 14, 14],   #a5\n",
        "                ])"
      ],
      "metadata": {
        "id": "ng2qUNqyZqFO"
      },
      "execution_count": 73,
      "outputs": []
    },
    {
      "cell_type": "code",
      "source": [
        "# Call Electre I_s Function\n",
        "global_concordance, discordance, kernel, credibility, dominated = electre_i_s(dataset, Q = Q, P = P, V = V, W = W, graph = True, lambda_value = lambda_value)"
      ],
      "metadata": {
        "colab": {
          "base_uri": "https://localhost:8080/",
          "height": 251
        },
        "id": "yFi0mu92Z8x5",
        "outputId": "a50512e7-abc1-4a17-d2d8-0d42bc949551"
      },
      "execution_count": 74,
      "outputs": [
        {
          "output_type": "display_data",
          "data": {
            "image/png": "[encoded data removed]",
            "text/plain": [
              "<Figure size 432x288 with 1 Axes>"
            ]
          },
          "metadata": {
            "needs_background": "light"
          }
        }
      ]
    },
    {
      "cell_type": "code",
      "source": [
        "# Global Concordance Matrix\n",
        "np.ndarray.round(global_concordance, decimals = 2)"
      ],
      "metadata": {
        "colab": {
          "base_uri": "https://localhost:8080/"
        },
        "id": "DG9lW3gJaIxd",
        "outputId": "98d559b7-5554-4352-87ac-5d5bba0b3479"
      },
      "execution_count": 75,
      "outputs": [
        {
          "output_type": "execute_result",
          "data": {
            "text/plain": [
              "array([[1.  , 0.73, 0.55, 0.54, 0.46],\n",
              "       [0.27, 1.  , 0.55, 0.26, 0.46],\n",
              "       [0.45, 0.45, 1.  , 0.26, 0.46],\n",
              "       [0.46, 1.  , 0.74, 1.  , 0.46],\n",
              "       [0.54, 0.54, 0.54, 0.54, 1.  ]])"
            ]
          },
          "metadata": {},
          "execution_count": 75
        }
      ]
    },
    {
      "cell_type": "code",
      "source": [
        "# Discordance Matrix\n",
        "np.ndarray.round(discordance, decimals = 2)"
      ],
      "metadata": {
        "colab": {
          "base_uri": "https://localhost:8080/"
        },
        "id": "hyILXpVYaL01",
        "outputId": "0b817331-9d3f-42ac-e00c-b95dacf02346"
      },
      "execution_count": 76,
      "outputs": [
        {
          "output_type": "execute_result",
          "data": {
            "text/plain": [
              "array([[0., 1., 1., 1., 1.],\n",
              "       [1., 0., 1., 1., 1.],\n",
              "       [1., 1., 0., 1., 1.],\n",
              "       [1., 0., 1., 0., 1.],\n",
              "       [1., 1., 1., 1., 0.]])"
            ]
          },
          "metadata": {},
          "execution_count": 76
        }
      ]
    },
    {
      "cell_type": "code",
      "source": [
        "# Credibility Matrix\n",
        "np.ndarray.round(credibility, decimals = 2)"
      ],
      "metadata": {
        "colab": {
          "base_uri": "https://localhost:8080/"
        },
        "id": "FnF3jpg5aPkL",
        "outputId": "d3f7e30a-8695-48a5-d1f2-e337036f77a8"
      },
      "execution_count": 77,
      "outputs": [
        {
          "output_type": "execute_result",
          "data": {
            "text/plain": [
              "array([[0., 0., 0., 0., 0.],\n",
              "       [0., 0., 0., 0., 0.],\n",
              "       [0., 0., 0., 0., 0.],\n",
              "       [0., 1., 0., 0., 0.],\n",
              "       [0., 0., 0., 0., 0.]])"
            ]
          },
          "metadata": {},
          "execution_count": 77
        }
      ]
    },
    {
      "cell_type": "code",
      "source": [
        "# Kernel Alternatives\n",
        "kernel"
      ],
      "metadata": {
        "colab": {
          "base_uri": "https://localhost:8080/"
        },
        "id": "KPIADCLRaSby",
        "outputId": "7722249f-d676-4210-c88b-9ed27d99620e"
      },
      "execution_count": 78,
      "outputs": [
        {
          "output_type": "execute_result",
          "data": {
            "text/plain": [
              "['a1', 'a3', 'a4', 'a5']"
            ]
          },
          "metadata": {},
          "execution_count": 78
        }
      ]
    },
    {
      "cell_type": "code",
      "source": [
        "# Dominated Alternatives\n",
        "dominated"
      ],
      "metadata": {
        "colab": {
          "base_uri": "https://localhost:8080/"
        },
        "id": "k7Y7iCxfaW3P",
        "outputId": "1c286545-9d4c-4993-d064-b7c3860c399d"
      },
      "execution_count": 79,
      "outputs": [
        {
          "output_type": "execute_result",
          "data": {
            "text/plain": [
              "['a2']"
            ]
          },
          "metadata": {},
          "execution_count": 79
        }
      ]
    }
  ]
}